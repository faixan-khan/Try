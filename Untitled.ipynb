{
 "cells": [
  {
   "cell_type": "code",
   "execution_count": 48,
   "metadata": {},
   "outputs": [],
   "source": [
    "import numpy as np\n",
    "import numpy.matlib"
   ]
  },
  {
   "cell_type": "code",
   "execution_count": 33,
   "metadata": {},
   "outputs": [],
   "source": [
    "def LocalRegression(input_image, example_input_image, example_output, flags): \n",
    "    patch_size=flags.path_size\n",
    "    epsilon=flags.epsilon\n",
    "    gamma=flags.gamma\n",
    "    radius=(path_size-1)/2\n",
    "    [height, width, num_channels]=input_image.shape\n",
    "    a_global=getGlobalRegression(example_input_image, example_output)\n",
    "    print('Global Matrix')\n",
    "    print(a_global)\n",
    "    print('Compute Local Variance...')\n",
    "    j_interval = np.arange(1,width-patch_size+1+1)\n",
    "    compact_table=lookup_table(patch_size)\n",
    "    sigmas=getScalingFactors(input_image, example_input_image, radius, patch_size, epsilon, gamma)\n",
    "    guidance = np.zeros(height*(length(j_interval)+patch_size-1), num_channels)\n",
    "    global_inds = global_indexes(patch_size, height, width)\n",
    "    I_3=np.eye(3)\n",
    "    I_k=np.eye(patch_size**2)\n"
   ]
  },
  {
   "cell_type": "code",
   "execution_count": 45,
   "metadata": {},
   "outputs": [
    {
     "data": {
      "text/plain": [
       "3"
      ]
     },
     "execution_count": 45,
     "metadata": {},
     "output_type": "execute_result"
    }
   ],
   "source": [
    "linear_ids = matlib.repmat(compact_table[:], [1, height-patch_size+1]) + (2*patch_size-1)^2*(iiis-1);\n"
   ]
  },
  {
   "cell_type": "code",
   "execution_count": null,
   "metadata": {},
   "outputs": [],
   "source": [
    "for j in j_interval:\n",
    "    ul_corners=np.arange(1,(height-patch_size+2)) + (j-j_interval[1])*(height-patch_size+1)\n",
    "    iis = global_inds[ul_corners-1]\n",
    "    iiis = np.zeros((patch_size**4, height - patch_size + 1))\n",
    "    for m in range(1,patch_size**2+1):\n",
    "        print('todo')\n",
    "    linear_ids = repmat(compact_table(:), [1 height-patch_size+1]) + (2*patch_size-1)^2*(iiis-1);\n",
    "    \n",
    "    \n",
    "    \n",
    "    "
   ]
  },
  {
   "cell_type": "code",
   "execution_count": null,
   "metadata": {},
   "outputs": [],
   "source": [
    "\n",
    "for j = j_interval\n",
    "    ul_corners = [1 : (height-patch_size+1)] + (j-j_interval(1))*(height-patch_size+1);\n",
    "    iis        = global_inds(:,ul_corners);\n",
    "    iiis = zeros(patch_size^4, height - patch_size + 1);\n",
    "    for m = 1 : patch_size^2\n",
    "        iiis(1+(m-1)*patch_size^2:m*patch_size^2, :) = repmat(iis(m,:),[patch_size^2 1]);\n",
    "    end\n",
    "    linear_ids = repmat(compact_table(:), [1 height-patch_size+1]) + (2*patch_size-1)^2*(iiis-1);\n",
    "\n",
    "    for i = 1 : height - patch_size + 1\n",
    "        linear_index = i + (j-1)*(height-patch_size+1);\n",
    "        sigma = sigmas(:,:,linear_index);\n",
    "        x=input_image(i:i+patch_size-1,j:j+patch_size-1,:);\n",
    "        x=reshape(x,patch_size^2, 3);\n",
    "        x0=example_input_image(i:i+patch_size-1,j:j+patch_size-1,:);\n",
    "        x0=reshape(x0,patch_size^2, 3);\n",
    "        y0=example_output(i:i+patch_size-1,j:j+patch_size-1,:);\n",
    "        y0=reshape(y0,patch_size^2, 3);\n",
    "\n",
    "        M = inv(sigma);\n",
    "        local_laplacian = I_k - x*M*x';\n",
    "        local_guidance  = x*M*(epsilon*x0'*y0 + gamma*a_global);\n",
    "        affinity_matrix_compact(linear_ids(:,i))= affinity_matrix_compact(linear_ids(:,i)) + local_laplacian(:);\n",
    "        guidance(iis(:,i),1) = guidance(iis(:,i),1) +  local_guidance(:,1);\n",
    "        guidance(iis(:,i),2) = guidance(iis(:,i),2) +  local_guidance(:,2);\n",
    "        guidance(iis(:,i),3) = guidance(iis(:,i),3) +  local_guidance(:,3);\n",
    "    end\n",
    "end"
   ]
  },
  {
   "cell_type": "code",
   "execution_count": null,
   "metadata": {},
   "outputs": [],
   "source": [
    "for j in j_interval:\n",
    "    ul_corners = mcat([mslice[1:(height - patch_size + 1)]]) + (j - j_interval(1)) * (height - patch_size + 1)\n",
    "    iis = global_inds(mslice[:], ul_corners)\n",
    "    iiis = zeros(patch_size ** 4, height - patch_size + 1)\n",
    "    for m in mslice[1:patch_size ** 2]:\n",
    "        iiis(mslice[1 + (m - 1) * patch_size ** 2:m * patch_size ** 2], mslice[:]).lvalue = repmat(iis(m, mslice[:]), mcat([patch_size ** 2, 1]))\n",
    "    end\n",
    "    linear_ids = repmat(compact_table(mslice[:]), mcat([1, height - patch_size + 1])) + (2 * patch_size - 1) ** 2 * (iiis - 1)\n",
    "\n",
    "    for i in mslice[1:height - patch_size + 1]:\n",
    "        linear_index = i + (j - 1) * (height - patch_size + 1)\n",
    "        sigma = sigmas(mslice[:], mslice[:], linear_index)\n",
    "        x = input_image(mslice[i:i + patch_size - 1], mslice[j:j + patch_size - 1], mslice[:])\n",
    "        x = reshape(x, patch_size ** 2, 3)\n",
    "        x0 = example_input_image(mslice[i:i + patch_size - 1], mslice[j:j + patch_size - 1], mslice[:])\n",
    "        x0 = reshape(x0, patch_size ** 2, 3)\n",
    "        y0 = example_output(mslice[i:i + patch_size - 1], mslice[j:j + patch_size - 1], mslice[:])\n",
    "        y0 = reshape(y0, patch_size ** 2, 3)\n",
    "\n",
    "        M = inv(sigma)\n",
    "        local_laplacian = I_k - x * M * x.cT\n",
    "        local_guidance = x * M * (epsilon * x0.cT * y0 + gamma * a_global)\n",
    "        affinity_matrix_compact(linear_ids(mslice[:], i)).lvalue = affinity_matrix_compact(linear_ids(mslice[:], i)) + local_laplacian(mslice[:])\n",
    "        guidance(iis(mslice[:], i), 1).lvalue = guidance(iis(mslice[:], i), 1) + local_guidance(mslice[:], 1)\n",
    "        guidance(iis(mslice[:], i), 2).lvalue = guidance(iis(mslice[:], i), 2) + local_guidance(mslice[:], 2)\n",
    "        guidance(iis(mslice[:], i), 3).lvalue = guidance(iis(mslice[:], i), 3) + local_guidance(mslice[:], 3)\n",
    "    end\n",
    "end"
   ]
  }
 ],
 "metadata": {
  "kernelspec": {
   "display_name": "Python 3",
   "language": "python",
   "name": "python3"
  },
  "language_info": {
   "codemirror_mode": {
    "name": "ipython",
    "version": 3
   },
   "file_extension": ".py",
   "mimetype": "text/x-python",
   "name": "python",
   "nbconvert_exporter": "python",
   "pygments_lexer": "ipython3",
   "version": "3.7.3"
  }
 },
 "nbformat": 4,
 "nbformat_minor": 2
}
